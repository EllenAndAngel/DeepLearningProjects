{
 "cells": [
  {
   "cell_type": "code",
   "execution_count": 13,
   "metadata": {},
   "outputs": [],
   "source": [
    "import re\n",
    "import numpy as np\n",
    "import matplotlib.pyplot as plt\n",
    "import pandas as pd\n",
    "from pandas import Series,DataFrame"
   ]
  },
  {
   "cell_type": "code",
   "execution_count": 15,
   "metadata": {},
   "outputs": [],
   "source": [
    "# dframe = pd.read_csv('../dataset/moore.csv')"
   ]
  },
  {
   "cell_type": "code",
   "execution_count": null,
   "metadata": {
    "collapsed": true
   },
   "outputs": [],
   "source": []
  },
  {
   "cell_type": "code",
   "execution_count": 37,
   "metadata": {
    "collapsed": true
   },
   "outputs": [],
   "source": [
    "X=[]\n",
    "Y=[]"
   ]
  },
  {
   "cell_type": "code",
   "execution_count": 38,
   "metadata": {
    "collapsed": true
   },
   "outputs": [],
   "source": [
    "non_decimal = re.compile(r'[^\\d]+')"
   ]
  },
  {
   "cell_type": "code",
   "execution_count": 39,
   "metadata": {
    "collapsed": true
   },
   "outputs": [],
   "source": [
    "for line in open('../dataset/moore.csv'):\n",
    "    r = line.split('\\t')\n",
    "    x = int(non_decimal.sub('',r[2].split('[')[0]))\n",
    "    y = int(non_decimal.sub('',r[1].split('[')[0]))\n",
    "    X.append(x)\n",
    "    Y.append(y)\n"
   ]
  },
  {
   "cell_type": "code",
   "execution_count": 40,
   "metadata": {},
   "outputs": [
    {
     "data": {
      "text/plain": [
       "[1971,\n",
       " 1972,\n",
       " 1974,\n",
       " 1974,\n",
       " 1974,\n",
       " 1974,\n",
       " 1975,\n",
       " 1976,\n",
       " 1976,\n",
       " 1978,\n",
       " 1978,\n",
       " 1979,\n",
       " 1979,\n",
       " 1981,\n",
       " 1982,\n",
       " 1982,\n",
       " 1983,\n",
       " 1984,\n",
       " 1985,\n",
       " 1985,\n",
       " 1985,\n",
       " 1986,\n",
       " 1987,\n",
       " 1988,\n",
       " 1988,\n",
       " 1989,\n",
       " 1989,\n",
       " 1991,\n",
       " 1991,\n",
       " 1993,\n",
       " 1994,\n",
       " 1995,\n",
       " 1995,\n",
       " 1996,\n",
       " 1997,\n",
       " 1997,\n",
       " 1998,\n",
       " 1999,\n",
       " 1999,\n",
       " 1999,\n",
       " 1999,\n",
       " 1999,\n",
       " 2000,\n",
       " 2000,\n",
       " 2001,\n",
       " 2002,\n",
       " 2002,\n",
       " 2003,\n",
       " 2003,\n",
       " 2003,\n",
       " 2004,\n",
       " 2004,\n",
       " 2005,\n",
       " 2005,\n",
       " 2006,\n",
       " 2006,\n",
       " 2006,\n",
       " 2006,\n",
       " 2006,\n",
       " 2007,\n",
       " 2007,\n",
       " 2007,\n",
       " 2007,\n",
       " 2007,\n",
       " 2008,\n",
       " 2008,\n",
       " 2008,\n",
       " 2008,\n",
       " 2008,\n",
       " 2009,\n",
       " 2010,\n",
       " 2010,\n",
       " 2010,\n",
       " 2010,\n",
       " 2010,\n",
       " 2010,\n",
       " 2011,\n",
       " 2011,\n",
       " 2011,\n",
       " 2012,\n",
       " 2012,\n",
       " 2012,\n",
       " 2012,\n",
       " 2012,\n",
       " 2012,\n",
       " 2012,\n",
       " 2013,\n",
       " 2013,\n",
       " 2013,\n",
       " 2013,\n",
       " 2014,\n",
       " 2014,\n",
       " 2014,\n",
       " 2014,\n",
       " 2014,\n",
       " 2014,\n",
       " 2015,\n",
       " 2015,\n",
       " 2015,\n",
       " 2015,\n",
       " 2015,\n",
       " 2016]"
      ]
     },
     "execution_count": 40,
     "metadata": {},
     "output_type": "execute_result"
    }
   ],
   "source": [
    "X"
   ]
  },
  {
   "cell_type": "code",
   "execution_count": 41,
   "metadata": {},
   "outputs": [
    {
     "data": {
      "text/plain": [
       "[2300,\n",
       " 3500,\n",
       " 4500,\n",
       " 4100,\n",
       " 5000,\n",
       " 8000,\n",
       " 3510,\n",
       " 6500,\n",
       " 8500,\n",
       " 29000,\n",
       " 9000,\n",
       " 29000,\n",
       " 68000,\n",
       " 11500,\n",
       " 55000,\n",
       " 134000,\n",
       " 22000,\n",
       " 190000,\n",
       " 25000,\n",
       " 275000,\n",
       " 16000,\n",
       " 30000,\n",
       " 553000,\n",
       " 180000,\n",
       " 250000,\n",
       " 300000,\n",
       " 1180235,\n",
       " 35000,\n",
       " 1350000,\n",
       " 3100000,\n",
       " 578977,\n",
       " 5500000,\n",
       " 2500000,\n",
       " 4300000,\n",
       " 8800000,\n",
       " 7500000,\n",
       " 7500000,\n",
       " 21300000,\n",
       " 22000000,\n",
       " 111000,\n",
       " 27400000,\n",
       " 9500000,\n",
       " 42000000,\n",
       " 21000000,\n",
       " 45000000,\n",
       " 220000000,\n",
       " 55000000,\n",
       " 105900000,\n",
       " 54300000,\n",
       " 410000000,\n",
       " 592000000,\n",
       " 112000000,\n",
       " 169000000,\n",
       " 228000000,\n",
       " 241000000,\n",
       " 291000000,\n",
       " 1700000000,\n",
       " 184000000,\n",
       " 362000000,\n",
       " 463000000,\n",
       " 26000000,\n",
       " 169000000,\n",
       " 411000000,\n",
       " 789000000,\n",
       " 758000000,\n",
       " 47000000,\n",
       " 230000000,\n",
       " 731000000,\n",
       " 1900000000,\n",
       " 904000000,\n",
       " 1000000000,\n",
       " 1200000000,\n",
       " 2300000000,\n",
       " 2000000000,\n",
       " 1400000000,\n",
       " 1170000000,\n",
       " 2600000000,\n",
       " 1160000000,\n",
       " 2270000000,\n",
       " 5000000000,\n",
       " 1200000000,\n",
       " 3100000000,\n",
       " 2100000000,\n",
       " 1303000000,\n",
       " 1400000000,\n",
       " 2750000000,\n",
       " 4200000000,\n",
       " 1000000000,\n",
       " 1860000000,\n",
       " 5000000000,\n",
       " 4310000000,\n",
       " 5560000000,\n",
       " 2600000000,\n",
       " 2000000000,\n",
       " 3000000000,\n",
       " 1400000000,\n",
       " 1900000000,\n",
       " 3990000000,\n",
       " 7100000000,\n",
       " 1750000000,\n",
       " 10000000000,\n",
       " 7200000000]"
      ]
     },
     "execution_count": 41,
     "metadata": {},
     "output_type": "execute_result"
    }
   ],
   "source": [
    "Y"
   ]
  },
  {
   "cell_type": "code",
   "execution_count": 42,
   "metadata": {
    "collapsed": true
   },
   "outputs": [],
   "source": [
    "X = np.array(X)\n",
    "Y = np.array(Y)"
   ]
  },
  {
   "cell_type": "code",
   "execution_count": 43,
   "metadata": {},
   "outputs": [
    {
     "data": {
      "image/png": "[encoded data removed]",
      "text/plain": [
       "<matplotlib.figure.Figure at 0x1154e2a20>"
      ]
     },
     "metadata": {},
     "output_type": "display_data"
    }
   ],
   "source": [
    "plt.scatter(X,Y,c='y')\n",
    "plt.show()"
   ]
  },
  {
   "cell_type": "code",
   "execution_count": 44,
   "metadata": {
    "collapsed": true
   },
   "outputs": [],
   "source": [
    "Y = np.log(Y)"
   ]
  },
  {
   "cell_type": "code",
   "execution_count": 45,
   "metadata": {},
   "outputs": [
    {
     "data": {
      "image/png": "[encoded data removed]",
      "text/plain": [
       "<matplotlib.figure.Figure at 0x1150d22e8>"
      ]
     },
     "metadata": {},
     "output_type": "display_data"
    }
   ],
   "source": [
    "plt.scatter(X,Y,c='b')\n",
    "plt.show()"
   ]
  },
  {
   "cell_type": "code",
   "execution_count": 46,
   "metadata": {
    "collapsed": true
   },
   "outputs": [],
   "source": [
    "denominator=X.dot(X)-X.mean()*X.sum()\n",
    "a = (X.dot(Y) - Y.mean()*X.sum())/denominator\n",
    "b = (Y.mean()*X.dot(X)-X.mean()*Y.dot(X))/denominator"
   ]
  },
  {
   "cell_type": "code",
   "execution_count": 47,
   "metadata": {
    "collapsed": true
   },
   "outputs": [],
   "source": [
    "Y_predict = a*X + b"
   ]
  },
  {
   "cell_type": "code",
   "execution_count": 48,
   "metadata": {},
   "outputs": [
    {
     "data": {
      "image/png": "[encoded data removed]",
      "text/plain": [
       "<matplotlib.figure.Figure at 0x115168a58>"
      ]
     },
     "metadata": {},
     "output_type": "display_data"
    }
   ],
   "source": [
    "plt.scatter(X,Y)\n",
    "plt.plot(X,Y_predict)\n",
    "plt.show()"
   ]
  },
  {
   "cell_type": "code",
   "execution_count": 49,
   "metadata": {
    "collapsed": true
   },
   "outputs": [],
   "source": [
    "d1 = Y - Y_predict\n",
    "d2 = Y - Y.mean()\n",
    "R_square = 1 - d1.dot(d1)/d2.dot(d2)"
   ]
  },
  {
   "cell_type": "code",
   "execution_count": 50,
   "metadata": {},
   "outputs": [
    {
     "data": {
      "text/plain": [
       "0.95294428522857599"
      ]
     },
     "execution_count": 50,
     "metadata": {},
     "output_type": "execute_result"
    }
   ],
   "source": [
    "R_square"
   ]
  },
  {
   "cell_type": "code",
   "execution_count": 51,
   "metadata": {},
   "outputs": [
    {
     "data": {
      "text/plain": [
       "1.9745331723797188"
      ]
     },
     "execution_count": 51,
     "metadata": {},
     "output_type": "execute_result"
    }
   ],
   "source": [
    "year = np.log(2)/a\n",
    "year"
   ]
  }
 ],
 "metadata": {
  "kernelspec": {
   "display_name": "Python 3",
   "language": "python",
   "name": "python3"
  },
  "language_info": {
   "codemirror_mode": {
    "name": "ipython",
    "version": 3
   },
   "file_extension": ".py",
   "mimetype": "text/x-python",
   "name": "python",
   "nbconvert_exporter": "python",
   "pygments_lexer": "ipython3",
   "version": "3.5.4"
  }
 },
 "nbformat": 4,
 "nbformat_minor": 2
}
