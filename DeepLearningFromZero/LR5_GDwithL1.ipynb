{
 "cells": [
  {
   "cell_type": "code",
   "execution_count": 40,
   "metadata": {
    "collapsed": true
   },
   "outputs": [],
   "source": [
    "import numpy as np\n",
    "import matplotlib.pyplot as plt"
   ]
  },
  {
   "cell_type": "code",
   "execution_count": 41,
   "metadata": {
    "collapsed": true
   },
   "outputs": [],
   "source": [
    "def sigmoid(z):\n",
    "    return 1/(1 + np.exp(-z))"
   ]
  },
  {
   "cell_type": "code",
   "execution_count": 42,
   "metadata": {
    "collapsed": true
   },
   "outputs": [],
   "source": [
    "N = 50\n",
    "D = 50\n",
    "X = (np.random.random((N, D)) - 0.5)*10\n",
    "true_w = np.array([1, 0.5, -0.5] + [0]*(D - 3))\n",
    "Y = np.round(sigmoid(X.dot(true_w) + np.random.randn(N)*0.5))"
   ]
  },
  {
   "cell_type": "code",
   "execution_count": 43,
   "metadata": {},
   "outputs": [
    {
     "data": {
      "text/plain": [
       "array([ 1. ,  0.5, -0.5,  0. ,  0. ,  0. ,  0. ,  0. ,  0. ,  0. ,  0. ,\n",
       "        0. ,  0. ,  0. ,  0. ,  0. ,  0. ,  0. ,  0. ,  0. ,  0. ,  0. ,\n",
       "        0. ,  0. ,  0. ,  0. ,  0. ,  0. ,  0. ,  0. ,  0. ,  0. ,  0. ,\n",
       "        0. ,  0. ,  0. ,  0. ,  0. ,  0. ,  0. ,  0. ,  0. ,  0. ,  0. ,\n",
       "        0. ,  0. ,  0. ,  0. ,  0. ,  0. ])"
      ]
     },
     "execution_count": 43,
     "metadata": {},
     "output_type": "execute_result"
    }
   ],
   "source": [
    "true_w"
   ]
  },
  {
   "cell_type": "code",
   "execution_count": 44,
   "metadata": {},
   "outputs": [
    {
     "data": {
      "text/plain": [
       "array([ 1.,  0.,  0.,  1.,  1.,  1.,  1.,  1.,  1.,  1.,  0.,  1.,  0.,\n",
       "        0.,  0.,  1.,  0.,  0.,  1.,  0.,  0.,  0.,  0.,  0.,  0.,  0.,\n",
       "        0.,  0.,  0.,  0.,  0.,  1.,  1.,  1.,  0.,  0.,  0.,  0.,  1.,\n",
       "        1.,  1.,  1.,  1.,  0.,  0.,  1.,  0.,  0.,  1.,  1.])"
      ]
     },
     "execution_count": 44,
     "metadata": {},
     "output_type": "execute_result"
    }
   ],
   "source": [
    "Y"
   ]
  },
  {
   "cell_type": "code",
   "execution_count": 45,
   "metadata": {
    "collapsed": true
   },
   "outputs": [],
   "source": [
    "costs = [] \n",
    "w = np.random.randn(D) / np.sqrt(D)"
   ]
  },
  {
   "cell_type": "code",
   "execution_count": 46,
   "metadata": {},
   "outputs": [
    {
     "data": {
      "text/plain": [
       "array([ 0.16926872, -0.1786988 , -0.23040733,  0.02657604, -0.01316966,\n",
       "       -0.2274329 , -0.07070518,  0.10670074, -0.02884246, -0.0266243 ,\n",
       "       -0.09602909,  0.00044284, -0.21198167, -0.19928433, -0.22900486,\n",
       "       -0.03157669, -0.02002319, -0.26130069, -0.14335982, -0.08805204,\n",
       "        0.1372264 ,  0.05864653,  0.07935166,  0.02519674,  0.25565476,\n",
       "        0.0610287 ,  0.10664447, -0.11766194, -0.06435796, -0.04024157,\n",
       "       -0.09986634,  0.22453868,  0.10633676, -0.2436431 , -0.07817501,\n",
       "        0.09057373,  0.06799043,  0.00548385, -0.07074851,  0.12034707,\n",
       "        0.08577127,  0.14186434,  0.01584237, -0.02085762, -0.08280913,\n",
       "        0.02103711, -0.17220416,  0.24100899,  0.11082483,  0.24126286])"
      ]
     },
     "execution_count": 46,
     "metadata": {},
     "output_type": "execute_result"
    }
   ],
   "source": [
    "w"
   ]
  },
  {
   "cell_type": "code",
   "execution_count": 47,
   "metadata": {
    "collapsed": true
   },
   "outputs": [],
   "source": [
    "learning_rate = 0.001\n",
    "l1 = 3.0"
   ]
  },
  {
   "cell_type": "code",
   "execution_count": 48,
   "metadata": {
    "collapsed": true
   },
   "outputs": [],
   "source": [
    "for t in range(5000):  \n",
    "    Yhat = sigmoid(X.dot(w))\n",
    "    delta = Yhat - Y\n",
    "#     update w, gradient descent with L1 regulation\n",
    "    w = w - learning_rate*(X.T.dot(delta) + l1*np.sign(w))\n",
    "    cost = -(Y*np.log(Yhat) + (1-Y)*np.log(1 - Yhat)).mean() + l1*np.abs(w).mean()\n",
    "    costs.append(cost)"
   ]
  },
  {
   "cell_type": "code",
   "execution_count": 49,
   "metadata": {},
   "outputs": [
    {
     "data": {
      "image/png": "[encoded data removed]",
      "text/plain": [
       "<matplotlib.figure.Figure at 0x10cb5a2e8>"
      ]
     },
     "metadata": {},
     "output_type": "display_data"
    }
   ],
   "source": [
    "plt.plot(costs)\n",
    "plt.show()"
   ]
  },
  {
   "cell_type": "code",
   "execution_count": 50,
   "metadata": {},
   "outputs": [
    {
     "data": {
      "text/plain": [
       "array([  1.03128793e+00,   5.27367294e-01,  -5.48325187e-03,\n",
       "        -1.07345474e-01,   2.19365008e-02,   3.10070374e-03,\n",
       "        -1.57268927e-03,   3.30788145e-04,  -3.12673537e-05,\n",
       "        -7.35720964e-04,  -1.71877662e-04,   1.54821599e-03,\n",
       "         5.05881236e-02,   4.57251340e-04,  -4.88149777e-04,\n",
       "         2.66342071e-03,  -3.05413066e-02,  -8.94564709e-02,\n",
       "        -1.61475602e-04,  -3.07145750e-03,  -1.57012742e-03,\n",
       "         2.43978811e-03,  -6.24429974e-04,  -5.97777983e-02,\n",
       "        -5.35330871e-05,   1.83076730e-03,  -4.27876757e-03,\n",
       "         2.83638786e-04,   2.43585895e-03,  -1.79782012e-03,\n",
       "         7.73060190e-03,   2.31853756e-02,  -4.64773913e-03,\n",
       "        -2.80848035e-03,   2.45956835e-03,  -2.65006481e-03,\n",
       "        -5.34468993e-04,  -2.60468891e-03,  -5.19409434e-03,\n",
       "         6.09433278e-02,  -2.89684457e-03,   8.71633028e-04,\n",
       "        -3.88317328e-02,  -1.87124919e-03,  -3.77365506e-03,\n",
       "         2.43152237e-03,   7.45178606e-02,   6.40591204e-04,\n",
       "         3.23720762e-03,   2.85151559e-03])"
      ]
     },
     "execution_count": 50,
     "metadata": {},
     "output_type": "execute_result"
    }
   ],
   "source": [
    "w"
   ]
  },
  {
   "cell_type": "code",
   "execution_count": 51,
   "metadata": {},
   "outputs": [
    {
     "data": {
      "image/png": "[encoded data removed]",
      "text/plain": [
       "<matplotlib.figure.Figure at 0x10c4cedd8>"
      ]
     },
     "metadata": {},
     "output_type": "display_data"
    }
   ],
   "source": [
    "plt.plot(true_w, label='true w')\n",
    "plt.plot(w, label='w_map')\n",
    "plt.legend()\n",
    "plt.show()"
   ]
  }
 ],
 "metadata": {
  "kernelspec": {
   "display_name": "Python 3",
   "language": "python",
   "name": "python3"
  },
  "language_info": {
   "codemirror_mode": {
    "name": "ipython",
    "version": 3
   },
   "file_extension": ".py",
   "mimetype": "text/x-python",
   "name": "python",
   "nbconvert_exporter": "python",
   "pygments_lexer": "ipython3",
   "version": "3.5.4"
  }
 },
 "nbformat": 4,
 "nbformat_minor": 2
}
