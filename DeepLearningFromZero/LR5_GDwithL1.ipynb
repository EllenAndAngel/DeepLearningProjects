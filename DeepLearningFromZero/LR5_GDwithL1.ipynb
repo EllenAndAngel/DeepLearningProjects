{
 "cells": [
  {
   "cell_type": "code",
   "execution_count": 1,
   "metadata": {
    "collapsed": true
   },
   "outputs": [],
   "source": [
    "import numpy as np\n",
    "import matplotlib.pyplot as plt"
   ]
  },
  {
   "cell_type": "code",
   "execution_count": 5,
   "metadata": {
    "collapsed": true
   },
   "outputs": [],
   "source": [
    "def sigmoid(z):\n",
    "    return 1/(1 + np.exp(-z))"
   ]
  },
  {
   "cell_type": "code",
   "execution_count": 6,
   "metadata": {
    "collapsed": true
   },
   "outputs": [],
   "source": [
    "N = 50\n",
    "D = 50\n",
    "X = (np.random.random((N, D)) - 0.5)*10\n",
    "true_w = np.array([1, 0.5, -0.5] + [0]*(D - 3))\n",
    "Y = np.round(sigmoid(X.dot(true_w) + np.random.randn(N)*0.5))"
   ]
  },
  {
   "cell_type": "code",
   "execution_count": 8,
   "metadata": {},
   "outputs": [
    {
     "data": {
      "text/plain": [
       "array([ 1. ,  0.5, -0.5,  0. ,  0. ,  0. ,  0. ,  0. ,  0. ,  0. ,  0. ,\n",
       "        0. ,  0. ,  0. ,  0. ,  0. ,  0. ,  0. ,  0. ,  0. ,  0. ,  0. ,\n",
       "        0. ,  0. ,  0. ,  0. ,  0. ,  0. ,  0. ,  0. ,  0. ,  0. ,  0. ,\n",
       "        0. ,  0. ,  0. ,  0. ,  0. ,  0. ,  0. ,  0. ,  0. ,  0. ,  0. ,\n",
       "        0. ,  0. ,  0. ,  0. ,  0. ,  0. ])"
      ]
     },
     "execution_count": 8,
     "metadata": {},
     "output_type": "execute_result"
    }
   ],
   "source": [
    "true_w"
   ]
  },
  {
   "cell_type": "code",
   "execution_count": 9,
   "metadata": {},
   "outputs": [
    {
     "data": {
      "text/plain": [
       "array([ 1.,  1.,  0.,  0.,  0.,  0.,  1.,  1.,  0.,  1.,  1.,  1.,  1.,\n",
       "        0.,  0.,  0.,  0.,  1.,  0.,  0.,  0.,  0.,  0.,  0.,  0.,  0.,\n",
       "        1.,  0.,  1.,  0.,  1.,  1.,  0.,  1.,  0.,  0.,  1.,  1.,  0.,\n",
       "        0.,  0.,  1.,  1.,  1.,  0.,  0.,  1.,  1.,  0.,  1.])"
      ]
     },
     "execution_count": 9,
     "metadata": {},
     "output_type": "execute_result"
    }
   ],
   "source": [
    "Y"
   ]
  },
  {
   "cell_type": "code",
   "execution_count": 10,
   "metadata": {
    "collapsed": true
   },
   "outputs": [],
   "source": [
    "costs = [] \n",
    "w = np.random.randn(D) / np.sqrt(D)"
   ]
  },
  {
   "cell_type": "code",
   "execution_count": 11,
   "metadata": {},
   "outputs": [
    {
     "data": {
      "text/plain": [
       "array([ 0.20898629, -0.14699616,  0.09464761,  0.06108557, -0.06710087,\n",
       "        0.04242243,  0.01708408, -0.08280579, -0.19080488,  0.05842487,\n",
       "       -0.12770457, -0.11625702, -0.21143481,  0.03184878,  0.15670068,\n",
       "       -0.09076732, -0.1769043 ,  0.08857901, -0.19554543, -0.0006714 ,\n",
       "       -0.11567426,  0.02311241,  0.17729196, -0.0057988 , -0.06683291,\n",
       "       -0.03211663,  0.04489218,  0.1143636 , -0.06301243,  0.07862887,\n",
       "       -0.09042453, -0.02420928,  0.0294958 , -0.30398067, -0.00180246,\n",
       "       -0.01751643, -0.06416762, -0.14942329,  0.13241977, -0.24292054,\n",
       "        0.0063821 ,  0.03820816, -0.01078333,  0.27846083, -0.06805695,\n",
       "        0.02084839,  0.04553601,  0.02548282,  0.30319979,  0.04948089])"
      ]
     },
     "execution_count": 11,
     "metadata": {},
     "output_type": "execute_result"
    }
   ],
   "source": [
    "w"
   ]
  },
  {
   "cell_type": "code",
   "execution_count": 12,
   "metadata": {
    "collapsed": true
   },
   "outputs": [],
   "source": [
    "learning_rate = 0.001\n",
    "l1 = 3.0"
   ]
  },
  {
   "cell_type": "code",
   "execution_count": 13,
   "metadata": {
    "collapsed": true
   },
   "outputs": [],
   "source": [
    "for t in range(5000):  \n",
    "    Yhat = sigmoid(X.dot(w))\n",
    "    delta = Yhat - Y\n",
    "#     update w, gradient descent with L1 regulation\n",
    "    w = w - learning_rate*(X.T.dot(delta) + l1*np.sign(w))\n",
    "    cost = -(Y*np.log(Yhat) + (1-Y)*np.log(1 - Yhat)).mean() + l1*np.abs(w).mean()\n",
    "    costs.append(cost)"
   ]
  },
  {
   "cell_type": "code",
   "execution_count": 14,
   "metadata": {},
   "outputs": [
    {
     "data": {
      "image/png": "[encoded data removed]",
      "text/plain": [
       "<matplotlib.figure.Figure at 0x10c46ab70>"
      ]
     },
     "metadata": {},
     "output_type": "display_data"
    }
   ],
   "source": [
    "plt.plot(costs)\n",
    "plt.show()"
   ]
  },
  {
   "cell_type": "code",
   "execution_count": 15,
   "metadata": {},
   "outputs": [
    {
     "data": {
      "text/plain": [
       "array([  9.23358827e-01,   6.42316721e-01,  -5.19719050e-01,\n",
       "        -1.87862556e-01,   3.25098076e-03,   4.04110567e-04,\n",
       "         4.65582110e-03,   3.20991371e-03,   1.94996858e-03,\n",
       "         7.16026810e-04,  -5.14102985e-04,   2.11785486e-03,\n",
       "        -3.88833547e-02,  -3.27112824e-04,   3.07181915e-05,\n",
       "        -1.51491977e-03,   1.32078308e-03,   2.38603397e-03,\n",
       "         4.17718404e-05,  -1.30837614e-01,   1.82662628e-04,\n",
       "        -4.56469074e-04,   1.92975916e-04,   2.75396415e-03,\n",
       "        -3.36239248e-03,   2.12698348e-02,  -1.83859422e-03,\n",
       "         7.95331806e-04,  -2.09725051e-03,   7.35408027e-04,\n",
       "         4.76814926e-03,  -8.80622862e-04,   1.30346733e-01,\n",
       "         3.63228783e-02,  -1.52992702e-04,  -2.55869046e-03,\n",
       "         5.02466338e-04,  -3.86668122e-03,   2.66508453e-03,\n",
       "        -4.51415803e-03,  -2.10576128e-03,  -1.15400657e-03,\n",
       "        -6.10124881e-04,  -1.12490966e-02,   1.37177901e-03,\n",
       "        -4.80892456e-03,  -1.76615692e-03,   3.75129989e-02,\n",
       "        -4.27453092e-04,   3.63883687e-03])"
      ]
     },
     "execution_count": 15,
     "metadata": {},
     "output_type": "execute_result"
    }
   ],
   "source": [
    "w"
   ]
  },
  {
   "cell_type": "code",
   "execution_count": 16,
   "metadata": {},
   "outputs": [
    {
     "data": {
      "image/png": "[encoded data removed]",
      "text/plain": [
       "<matplotlib.figure.Figure at 0x10c46e320>"
      ]
     },
     "metadata": {},
     "output_type": "display_data"
    }
   ],
   "source": [
    "plt.plot(true_w, label='true w')\n",
    "plt.plot(w, label='w_map')\n",
    "plt.legend()\n",
    "plt.show()"
   ]
  }
 ],
 "metadata": {
  "kernelspec": {
   "display_name": "Python 3",
   "language": "python",
   "name": "python3"
  },
  "language_info": {
   "codemirror_mode": {
    "name": "ipython",
    "version": 3
   },
   "file_extension": ".py",
   "mimetype": "text/x-python",
   "name": "python",
   "nbconvert_exporter": "python",
   "pygments_lexer": "ipython3",
   "version": "3.5.4"
  }
 },
 "nbformat": 4,
 "nbformat_minor": 2
}
