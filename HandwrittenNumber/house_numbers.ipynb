{
 "cells": [
  {
   "cell_type": "markdown",
   "metadata": {},
   "source": [
    "## data: http://ufldl.stanford.edu/housenumbers/"
   ]
  },
  {
   "cell_type": "code",
   "execution_count": 55,
   "metadata": {},
   "outputs": [],
   "source": [
    "import numpy as np\n",
    "import tensorflow as tf\n",
    "import matplotlib.pyplot as plt\n",
    "from datetime import datetime"
   ]
  },
  {
   "cell_type": "code",
   "execution_count": 27,
   "metadata": {
    "collapsed": true
   },
   "outputs": [],
   "source": [
    "from scipy.io import loadmat\n",
    "from sklearn.utils import shuffle"
   ]
  },
  {
   "cell_type": "code",
   "execution_count": 28,
   "metadata": {
    "collapsed": true
   },
   "outputs": [],
   "source": [
    "def y2indicator(y):\n",
    "    N = len(y)\n",
    "    ind = np.zeros((N,10))\n",
    "    for i in range(N):\n",
    "        ind[i,y[i]]=1\n",
    "    return ind\n",
    "\n",
    "# one-hot coding"
   ]
  },
  {
   "cell_type": "code",
   "execution_count": 29,
   "metadata": {
    "collapsed": true
   },
   "outputs": [],
   "source": [
    "def error_rate(p,t):\n",
    "    return np.mean(p != t)\n",
    "# p -- predict\n",
    "# t -- target"
   ]
  },
  {
   "cell_type": "code",
   "execution_count": 30,
   "metadata": {},
   "outputs": [],
   "source": [
    "def flatten(X):\n",
    "    N = X.shape[-1]\n",
    "    flat = np.zeros((N,3072))\n",
    "    for i in range(N):\n",
    "        flat[i]=X[:,:,:,i].reshape(3072)\n",
    "    return flat"
   ]
  },
  {
   "cell_type": "code",
   "execution_count": 31,
   "metadata": {
    "collapsed": true
   },
   "outputs": [],
   "source": [
    "train_data = loadmat('../dataset/train_32x32.mat')\n",
    "test_data = loadmat('../dataset/test_32x32.mat')"
   ]
  },
  {
   "cell_type": "markdown",
   "metadata": {},
   "source": [
    "# train_data\n",
    "\n",
    "{'X': array([[[[ 33,  84,  19, ...,  92, 190, 216],\n",
    "          [ 30,  76,  54, ...,  78, 188, 217],\n",
    "          [ 38,  59, 110, ..., 101, 191, 212]],\n",
    "         \n",
    "          [ 79,  80, 231, ..., 218, 209, 171]]]], dtype=uint8),\n",
    "          \n",
    "        'y': array([[1],\n",
    "        [9],\n",
    "        [2],\n",
    "        ..., \n",
    "        [1],\n",
    "        [6],\n",
    "        [9]], dtype=uint8)}"
   ]
  },
  {
   "cell_type": "code",
   "execution_count": 32,
   "metadata": {
    "collapsed": true
   },
   "outputs": [],
   "source": [
    "X_train = flatten(train_data['X'].astype(np.float32)/255)"
   ]
  },
  {
   "cell_type": "code",
   "execution_count": 33,
   "metadata": {},
   "outputs": [
    {
     "data": {
      "text/plain": [
       "array([[ 0.12941177,  0.11764706,  0.14901961, ...,  0.40392157,\n",
       "         0.41568628,  0.30980393],\n",
       "       [ 0.32941177,  0.29803923,  0.23137255, ...,  0.40392157,\n",
       "         0.38431373,  0.3137255 ],\n",
       "       [ 0.07450981,  0.21176471,  0.43137255, ...,  0.24705882,\n",
       "         0.56862748,  0.90588236],\n",
       "       ..., \n",
       "       [ 0.36078432,  0.30588236,  0.39607844, ...,  0.85490197,\n",
       "         0.8509804 ,  0.85490197],\n",
       "       [ 0.74509805,  0.73725492,  0.74901962, ...,  0.85490197,\n",
       "         0.83529413,  0.81960785],\n",
       "       [ 0.84705883,  0.8509804 ,  0.83137256, ...,  0.70980394,\n",
       "         0.69803923,  0.67058825]])"
      ]
     },
     "execution_count": 33,
     "metadata": {},
     "output_type": "execute_result"
    }
   ],
   "source": [
    "X_train"
   ]
  },
  {
   "cell_type": "code",
   "execution_count": 34,
   "metadata": {
    "collapsed": true
   },
   "outputs": [],
   "source": [
    "Y_train = train_data['y'].flatten()-1"
   ]
  },
  {
   "cell_type": "code",
   "execution_count": 35,
   "metadata": {},
   "outputs": [
    {
     "data": {
      "text/plain": [
       "73257"
      ]
     },
     "execution_count": 35,
     "metadata": {},
     "output_type": "execute_result"
    }
   ],
   "source": [
    "len(Y_train)"
   ]
  },
  {
   "cell_type": "code",
   "execution_count": 36,
   "metadata": {},
   "outputs": [
    {
     "data": {
      "text/plain": [
       "array([0, 8, 1, ..., 0, 5, 8], dtype=uint8)"
      ]
     },
     "execution_count": 36,
     "metadata": {},
     "output_type": "execute_result"
    }
   ],
   "source": [
    "Y_train"
   ]
  },
  {
   "cell_type": "code",
   "execution_count": 37,
   "metadata": {
    "collapsed": true
   },
   "outputs": [],
   "source": [
    "X_test = flatten(test_data['X'].astype(np.float32)/255)\n",
    "Y_test = test_data['y'].flatten()-1"
   ]
  },
  {
   "cell_type": "code",
   "execution_count": 38,
   "metadata": {},
   "outputs": [],
   "source": [
    "X_train, Y_train = shuffle(X_train, Y_train)\n",
    "Y_train_ind = y2indicator(Y_train)"
   ]
  },
  {
   "cell_type": "code",
   "execution_count": 39,
   "metadata": {},
   "outputs": [
    {
     "data": {
      "text/plain": [
       "array([[ 0.,  1.,  0., ...,  0.,  0.,  0.],\n",
       "       [ 0.,  0.,  0., ...,  0.,  1.,  0.],\n",
       "       [ 1.,  0.,  0., ...,  0.,  0.,  0.],\n",
       "       ..., \n",
       "       [ 0.,  1.,  0., ...,  0.,  0.,  0.],\n",
       "       [ 1.,  0.,  0., ...,  0.,  0.,  0.],\n",
       "       [ 0.,  0.,  0., ...,  0.,  0.,  0.]])"
      ]
     },
     "execution_count": 39,
     "metadata": {},
     "output_type": "execute_result"
    }
   ],
   "source": [
    "Y_train_ind"
   ]
  },
  {
   "cell_type": "code",
   "execution_count": 40,
   "metadata": {},
   "outputs": [
    {
     "data": {
      "text/plain": [
       "array([[ 0.31764707,  0.28235295,  0.29411766, ...,  0.30588236,\n",
       "         0.33725491,  0.42745098],\n",
       "       [ 0.18039216,  0.20392157,  0.25098041, ...,  0.25098041,\n",
       "         0.29019609,  0.29411766],\n",
       "       [ 0.56078434,  0.56470591,  0.50980395, ...,  0.14901961,\n",
       "         0.13725491,  0.10980392],\n",
       "       ..., \n",
       "       [ 0.41568628,  0.41960785,  0.35686275, ...,  0.49411765,\n",
       "         0.50980395,  0.44313726],\n",
       "       [ 0.38431373,  0.36078432,  0.30588236, ...,  0.59215689,\n",
       "         0.6156863 ,  0.60784316],\n",
       "       [ 0.29019609,  0.3019608 ,  0.36078432, ...,  0.37254903,\n",
       "         0.39215687,  0.40392157]])"
      ]
     },
     "execution_count": 40,
     "metadata": {},
     "output_type": "execute_result"
    }
   ],
   "source": [
    "X_train"
   ]
  },
  {
   "cell_type": "code",
   "execution_count": 41,
   "metadata": {
    "collapsed": true
   },
   "outputs": [],
   "source": [
    "Y_test_ind = y2indicator(Y_test)"
   ]
  },
  {
   "cell_type": "code",
   "execution_count": 42,
   "metadata": {},
   "outputs": [
    {
     "data": {
      "text/plain": [
       "array([[ 0.,  0.,  0., ...,  0.,  0.,  0.],\n",
       "       [ 0.,  1.,  0., ...,  0.,  0.,  0.],\n",
       "       [ 1.,  0.,  0., ...,  0.,  0.,  0.],\n",
       "       ..., \n",
       "       [ 0.,  0.,  0., ...,  0.,  0.,  0.],\n",
       "       [ 0.,  0.,  0., ...,  0.,  0.,  0.],\n",
       "       [ 0.,  0.,  0., ...,  0.,  0.,  0.]])"
      ]
     },
     "execution_count": 42,
     "metadata": {},
     "output_type": "execute_result"
    }
   ],
   "source": [
    "Y_test_ind"
   ]
  },
  {
   "cell_type": "code",
   "execution_count": 62,
   "metadata": {
    "collapsed": true
   },
   "outputs": [],
   "source": [
    "max_iter = 20\n",
    "print_period = 10\n",
    "N,D = X_train.shape\n",
    "batch_size = 500\n",
    "n_batches = int(N/batch_size)"
   ]
  },
  {
   "cell_type": "code",
   "execution_count": 59,
   "metadata": {},
   "outputs": [
    {
     "data": {
      "text/plain": [
       "73257"
      ]
     },
     "execution_count": 59,
     "metadata": {},
     "output_type": "execute_result"
    }
   ],
   "source": [
    "N"
   ]
  },
  {
   "cell_type": "code",
   "execution_count": 61,
   "metadata": {},
   "outputs": [
    {
     "data": {
      "text/plain": [
       "146"
      ]
     },
     "execution_count": 61,
     "metadata": {},
     "output_type": "execute_result"
    }
   ],
   "source": [
    "int(n_batches)"
   ]
  },
  {
   "cell_type": "code",
   "execution_count": 44,
   "metadata": {
    "collapsed": true
   },
   "outputs": [],
   "source": [
    "M1 = 1000 \n",
    "M2 = 500\n",
    "K = 10"
   ]
  },
  {
   "cell_type": "code",
   "execution_count": 45,
   "metadata": {
    "collapsed": true
   },
   "outputs": [],
   "source": [
    "W1_init = np.random.randn(D, M1) / np.sqrt(D + M1)\n",
    "b1_init = np.zeros(M1)\n",
    "W2_init = np.random.randn(M1, M2) / np.sqrt(M1 + M2)\n",
    "b2_init = np.zeros(M2)\n",
    "W3_init = np.random.randn(M2, K) / np.sqrt(M2 + K)\n",
    "b3_init = np.zeros(K)"
   ]
  },
  {
   "cell_type": "code",
   "execution_count": 46,
   "metadata": {},
   "outputs": [
    {
     "data": {
      "text/plain": [
       "array([[  7.52997719e-03,   3.57068013e-03,   4.59663433e-03, ...,\n",
       "         -1.06265146e-02,  -1.16040464e-03,   2.61525810e-02],\n",
       "       [  1.83406467e-03,   5.35732332e-04,  -1.89234816e-02, ...,\n",
       "          1.69892084e-02,   2.19376149e-02,  -1.42260708e-02],\n",
       "       [ -1.48455754e-02,   6.33612383e-03,   2.46316966e-02, ...,\n",
       "         -1.52599669e-02,   8.52083497e-03,   2.92734174e-03],\n",
       "       ..., \n",
       "       [ -2.62663230e-02,  -1.24775702e-02,  -2.48838564e-03, ...,\n",
       "          1.87001390e-03,   1.35071625e-02,   2.29983863e-02],\n",
       "       [  1.89832313e-02,   1.70721388e-03,   3.42410364e-04, ...,\n",
       "         -3.52593132e-03,  -1.86480345e-02,  -2.75082142e-05],\n",
       "       [ -1.89541784e-02,   1.87552000e-02,  -7.44365196e-03, ...,\n",
       "          2.93213225e-02,  -5.33619802e-03,  -3.51140266e-03]])"
      ]
     },
     "execution_count": 46,
     "metadata": {},
     "output_type": "execute_result"
    }
   ],
   "source": [
    "W1_init"
   ]
  },
  {
   "cell_type": "code",
   "execution_count": 47,
   "metadata": {
    "collapsed": true
   },
   "outputs": [],
   "source": [
    "X = tf.placeholder(tf.float32, shape=(None, D), name='X')\n",
    "T = tf.placeholder(tf.float32, shape=(None, K), name='T')\n",
    "W1 = tf.Variable(W1_init.astype(np.float32))\n",
    "b1 = tf.Variable(b1_init.astype(np.float32))\n",
    "W2 = tf.Variable(W2_init.astype(np.float32))\n",
    "b2 = tf.Variable(b2_init.astype(np.float32))\n",
    "W3 = tf.Variable(W3_init.astype(np.float32))\n",
    "b3 = tf.Variable(b3_init.astype(np.float32))"
   ]
  },
  {
   "cell_type": "code",
   "execution_count": 48,
   "metadata": {
    "collapsed": true
   },
   "outputs": [],
   "source": [
    "Z1 = tf.nn.relu( tf.matmul(X, W1) + b1 )\n",
    "Z2 = tf.nn.relu( tf.matmul(Z1, W2) + b2 )\n",
    "Yish = tf.matmul(Z2, W3) + b3"
   ]
  },
  {
   "cell_type": "code",
   "execution_count": 49,
   "metadata": {
    "collapsed": true
   },
   "outputs": [],
   "source": [
    "cost = tf.reduce_sum(\n",
    "    tf.nn.softmax_cross_entropy_with_logits(logits=Yish, labels=T))"
   ]
  },
  {
   "cell_type": "code",
   "execution_count": 50,
   "metadata": {},
   "outputs": [
    {
     "data": {
      "text/plain": [
       "<tf.Tensor 'Sum:0' shape=() dtype=float32>"
      ]
     },
     "execution_count": 50,
     "metadata": {},
     "output_type": "execute_result"
    }
   ],
   "source": [
    "cost"
   ]
  },
  {
   "cell_type": "code",
   "execution_count": 56,
   "metadata": {},
   "outputs": [],
   "source": [
    "train_op = tf.train.RMSPropOptimizer(0.0001, decay=0.99, momentum=0.9).minimize(cost)\n",
    "\n",
    "    # we'll use this to calculate the error rate\n",
    "predict_op = tf.argmax(Yish, 1)\n",
    "\n",
    "t0 = datetime.now()\n",
    "LL = []\n",
    "init = tf.global_variables_initializer()"
   ]
  },
  {
   "cell_type": "code",
   "execution_count": 63,
   "metadata": {},
   "outputs": [
    {
     "name": "stdout",
     "output_type": "stream",
     "text": [
      "Cost / err at iteration i=0, j=0: 58378.363 / 0.811\n",
      "Cost / err at iteration i=0, j=10: 58624.352 / 0.804\n",
      "Cost / err at iteration i=0, j=20: 58364.852 / 0.804\n",
      "Cost / err at iteration i=0, j=30: 58145.414 / 0.804\n",
      "Cost / err at iteration i=0, j=40: 58036.273 / 0.804\n",
      "Cost / err at iteration i=0, j=50: 57813.273 / 0.791\n",
      "Cost / err at iteration i=0, j=60: 57387.984 / 0.795\n",
      "Cost / err at iteration i=0, j=70: 56602.309 / 0.781\n",
      "Cost / err at iteration i=0, j=80: 55882.828 / 0.766\n",
      "Cost / err at iteration i=0, j=90: 53807.625 / 0.750\n",
      "Cost / err at iteration i=0, j=100: 51342.527 / 0.680\n",
      "Cost / err at iteration i=0, j=110: 50593.414 / 0.679\n",
      "Cost / err at iteration i=0, j=120: 47568.020 / 0.635\n",
      "Cost / err at iteration i=0, j=130: 46476.445 / 0.617\n",
      "Cost / err at iteration i=0, j=140: 45166.305 / 0.612\n",
      "Cost / err at iteration i=1, j=0: 43092.785 / 0.571\n",
      "Cost / err at iteration i=1, j=10: 42451.270 / 0.537\n",
      "Cost / err at iteration i=1, j=20: 41225.117 / 0.516\n",
      "Cost / err at iteration i=1, j=30: 40406.875 / 0.503\n",
      "Cost / err at iteration i=1, j=40: 40033.098 / 0.505\n",
      "Cost / err at iteration i=1, j=50: 37921.387 / 0.473\n",
      "Cost / err at iteration i=1, j=60: 37395.828 / 0.471\n",
      "Cost / err at iteration i=1, j=70: 38104.277 / 0.489\n",
      "Cost / err at iteration i=1, j=80: 36742.609 / 0.447\n",
      "Cost / err at iteration i=1, j=90: 37500.172 / 0.463\n",
      "Cost / err at iteration i=1, j=100: 35470.516 / 0.424\n",
      "Cost / err at iteration i=1, j=110: 37250.234 / 0.442\n",
      "Cost / err at iteration i=1, j=120: 34841.465 / 0.418\n",
      "Cost / err at iteration i=1, j=130: 34449.000 / 0.422\n",
      "Cost / err at iteration i=1, j=140: 34864.707 / 0.410\n",
      "Cost / err at iteration i=2, j=0: 34699.117 / 0.418\n",
      "Cost / err at iteration i=2, j=10: 34409.105 / 0.407\n",
      "Cost / err at iteration i=2, j=20: 33111.570 / 0.385\n",
      "Cost / err at iteration i=2, j=30: 34572.945 / 0.409\n",
      "Cost / err at iteration i=2, j=40: 35229.121 / 0.427\n",
      "Cost / err at iteration i=2, j=50: 33138.219 / 0.393\n",
      "Cost / err at iteration i=2, j=60: 31948.572 / 0.378\n",
      "Cost / err at iteration i=2, j=70: 32184.443 / 0.378\n",
      "Cost / err at iteration i=2, j=80: 32473.781 / 0.387\n",
      "Cost / err at iteration i=2, j=90: 31153.158 / 0.361\n",
      "Cost / err at iteration i=2, j=100: 31743.934 / 0.378\n",
      "Cost / err at iteration i=2, j=110: 31300.971 / 0.364\n",
      "Cost / err at iteration i=2, j=120: 30757.891 / 0.362\n",
      "Cost / err at iteration i=2, j=130: 31026.715 / 0.370\n",
      "Cost / err at iteration i=2, j=140: 30727.098 / 0.362\n",
      "Cost / err at iteration i=3, j=0: 30495.727 / 0.359\n",
      "Cost / err at iteration i=3, j=10: 32648.559 / 0.380\n",
      "Cost / err at iteration i=3, j=20: 30006.039 / 0.345\n",
      "Cost / err at iteration i=3, j=30: 29609.254 / 0.338\n",
      "Cost / err at iteration i=3, j=40: 30982.402 / 0.361\n",
      "Cost / err at iteration i=3, j=50: 29477.152 / 0.339\n",
      "Cost / err at iteration i=3, j=60: 28796.836 / 0.328\n",
      "Cost / err at iteration i=3, j=70: 27897.654 / 0.322\n",
      "Cost / err at iteration i=3, j=80: 29716.314 / 0.351\n",
      "Cost / err at iteration i=3, j=90: 28132.273 / 0.324\n",
      "Cost / err at iteration i=3, j=100: 28814.590 / 0.330\n",
      "Cost / err at iteration i=3, j=110: 27883.666 / 0.321\n",
      "Cost / err at iteration i=3, j=120: 29688.918 / 0.343\n",
      "Cost / err at iteration i=3, j=130: 28573.750 / 0.331\n",
      "Cost / err at iteration i=3, j=140: 28425.918 / 0.331\n",
      "Cost / err at iteration i=4, j=0: 27600.881 / 0.321\n",
      "Cost / err at iteration i=4, j=10: 29104.012 / 0.339\n",
      "Cost / err at iteration i=4, j=20: 28567.688 / 0.326\n",
      "Cost / err at iteration i=4, j=30: 28420.582 / 0.328\n",
      "Cost / err at iteration i=4, j=40: 28434.678 / 0.335\n",
      "Cost / err at iteration i=4, j=50: 29700.801 / 0.346\n",
      "Cost / err at iteration i=4, j=60: 27187.020 / 0.313\n",
      "Cost / err at iteration i=4, j=70: 25692.809 / 0.294\n",
      "Cost / err at iteration i=4, j=80: 27140.559 / 0.318\n",
      "Cost / err at iteration i=4, j=90: 26145.334 / 0.300\n",
      "Cost / err at iteration i=4, j=100: 27120.820 / 0.315\n",
      "Cost / err at iteration i=4, j=110: 27011.104 / 0.307\n",
      "Cost / err at iteration i=4, j=120: 27413.410 / 0.312\n",
      "Cost / err at iteration i=4, j=130: 26758.672 / 0.312\n",
      "Cost / err at iteration i=4, j=140: 26751.213 / 0.305\n",
      "Cost / err at iteration i=5, j=0: 25832.477 / 0.295\n",
      "Cost / err at iteration i=5, j=10: 26870.070 / 0.312\n",
      "Cost / err at iteration i=5, j=20: 27760.855 / 0.322\n",
      "Cost / err at iteration i=5, j=30: 27279.441 / 0.308\n",
      "Cost / err at iteration i=5, j=40: 27098.639 / 0.317\n",
      "Cost / err at iteration i=5, j=50: 28027.945 / 0.324\n",
      "Cost / err at iteration i=5, j=60: 26608.059 / 0.296\n",
      "Cost / err at iteration i=5, j=70: 25187.447 / 0.288\n",
      "Cost / err at iteration i=5, j=80: 25791.967 / 0.303\n",
      "Cost / err at iteration i=5, j=90: 24986.980 / 0.286\n",
      "Cost / err at iteration i=5, j=100: 25620.273 / 0.297\n",
      "Cost / err at iteration i=5, j=110: 26710.895 / 0.307\n",
      "Cost / err at iteration i=5, j=120: 27640.066 / 0.314\n",
      "Cost / err at iteration i=5, j=130: 24672.994 / 0.283\n",
      "Cost / err at iteration i=5, j=140: 25437.039 / 0.289\n",
      "Cost / err at iteration i=6, j=0: 24844.416 / 0.281\n",
      "Cost / err at iteration i=6, j=10: 26290.311 / 0.300\n",
      "Cost / err at iteration i=6, j=20: 25611.898 / 0.295\n",
      "Cost / err at iteration i=6, j=30: 24595.711 / 0.279\n",
      "Cost / err at iteration i=6, j=40: 24722.445 / 0.281\n",
      "Cost / err at iteration i=6, j=50: 25993.121 / 0.299\n",
      "Cost / err at iteration i=6, j=60: 24955.621 / 0.278\n",
      "Cost / err at iteration i=6, j=70: 24223.410 / 0.273\n",
      "Cost / err at iteration i=6, j=80: 24928.305 / 0.285\n",
      "Cost / err at iteration i=6, j=90: 24608.312 / 0.284\n",
      "Cost / err at iteration i=6, j=100: 24139.061 / 0.278\n",
      "Cost / err at iteration i=6, j=110: 24361.104 / 0.271\n",
      "Cost / err at iteration i=6, j=120: 25229.930 / 0.283\n",
      "Cost / err at iteration i=6, j=130: 24180.699 / 0.278\n",
      "Cost / err at iteration i=6, j=140: 24352.688 / 0.280\n",
      "Cost / err at iteration i=7, j=0: 23401.490 / 0.264\n",
      "Cost / err at iteration i=7, j=10: 26108.609 / 0.299\n",
      "Cost / err at iteration i=7, j=20: 24678.287 / 0.281\n",
      "Cost / err at iteration i=7, j=30: 24095.953 / 0.271\n",
      "Cost / err at iteration i=7, j=40: 23839.086 / 0.268\n",
      "Cost / err at iteration i=7, j=50: 25055.555 / 0.292\n",
      "Cost / err at iteration i=7, j=60: 23407.539 / 0.258\n",
      "Cost / err at iteration i=7, j=70: 23863.375 / 0.272\n",
      "Cost / err at iteration i=7, j=80: 23458.875 / 0.264\n",
      "Cost / err at iteration i=7, j=90: 23042.449 / 0.262\n",
      "Cost / err at iteration i=7, j=100: 23259.164 / 0.264\n",
      "Cost / err at iteration i=7, j=110: 23768.945 / 0.268\n",
      "Cost / err at iteration i=7, j=120: 24436.314 / 0.275\n",
      "Cost / err at iteration i=7, j=130: 23526.086 / 0.270\n",
      "Cost / err at iteration i=7, j=140: 23316.549 / 0.263\n",
      "Cost / err at iteration i=8, j=0: 22492.012 / 0.253\n",
      "Cost / err at iteration i=8, j=10: 25275.828 / 0.286\n",
      "Cost / err at iteration i=8, j=20: 23476.311 / 0.264\n",
      "Cost / err at iteration i=8, j=30: 23527.793 / 0.269\n",
      "Cost / err at iteration i=8, j=40: 23608.514 / 0.265\n",
      "Cost / err at iteration i=8, j=50: 23645.645 / 0.271\n",
      "Cost / err at iteration i=8, j=60: 22951.816 / 0.258\n",
      "Cost / err at iteration i=8, j=70: 22850.807 / 0.257\n",
      "Cost / err at iteration i=8, j=80: 22136.096 / 0.244\n",
      "Cost / err at iteration i=8, j=90: 22743.703 / 0.257\n",
      "Cost / err at iteration i=8, j=100: 22719.781 / 0.256\n",
      "Cost / err at iteration i=8, j=110: 23660.027 / 0.269\n",
      "Cost / err at iteration i=8, j=120: 24469.426 / 0.273\n",
      "Cost / err at iteration i=8, j=130: 23631.609 / 0.270\n",
      "Cost / err at iteration i=8, j=140: 23510.918 / 0.262\n",
      "Cost / err at iteration i=9, j=0: 22034.906 / 0.250\n",
      "Cost / err at iteration i=9, j=10: 23693.600 / 0.269\n",
      "Cost / err at iteration i=9, j=20: 22711.238 / 0.254\n",
      "Cost / err at iteration i=9, j=30: 22573.094 / 0.252\n",
      "Cost / err at iteration i=9, j=40: 22799.623 / 0.252\n",
      "Cost / err at iteration i=9, j=50: 22584.234 / 0.257\n",
      "Cost / err at iteration i=9, j=60: 22421.402 / 0.248\n",
      "Cost / err at iteration i=9, j=70: 21633.756 / 0.242\n",
      "Cost / err at iteration i=9, j=80: 22191.168 / 0.249\n",
      "Cost / err at iteration i=9, j=90: 22713.084 / 0.258\n",
      "Cost / err at iteration i=9, j=100: 22070.947 / 0.244\n",
      "Cost / err at iteration i=9, j=110: 22770.719 / 0.260\n",
      "Cost / err at iteration i=9, j=120: 22496.031 / 0.248\n",
      "Cost / err at iteration i=9, j=130: 23231.848 / 0.263\n",
      "Cost / err at iteration i=9, j=140: 23817.812 / 0.270\n",
      "Cost / err at iteration i=10, j=0: 22194.732 / 0.250\n",
      "Cost / err at iteration i=10, j=10: 23565.709 / 0.265\n",
      "Cost / err at iteration i=10, j=20: 23895.895 / 0.267\n",
      "Cost / err at iteration i=10, j=30: 21516.232 / 0.239\n"
     ]
    },
    {
     "name": "stdout",
     "output_type": "stream",
     "text": [
      "Cost / err at iteration i=10, j=40: 22125.123 / 0.243\n",
      "Cost / err at iteration i=10, j=50: 21119.463 / 0.235\n",
      "Cost / err at iteration i=10, j=60: 21494.943 / 0.236\n",
      "Cost / err at iteration i=10, j=70: 21250.025 / 0.234\n",
      "Cost / err at iteration i=10, j=80: 20949.617 / 0.232\n",
      "Cost / err at iteration i=10, j=90: 21577.875 / 0.243\n",
      "Cost / err at iteration i=10, j=100: 21779.016 / 0.243\n",
      "Cost / err at iteration i=10, j=110: 22565.945 / 0.256\n",
      "Cost / err at iteration i=10, j=120: 21733.512 / 0.236\n",
      "Cost / err at iteration i=10, j=130: 22468.236 / 0.250\n",
      "Cost / err at iteration i=10, j=140: 22944.014 / 0.258\n",
      "Cost / err at iteration i=11, j=0: 21556.100 / 0.241\n",
      "Cost / err at iteration i=11, j=10: 23115.857 / 0.259\n",
      "Cost / err at iteration i=11, j=20: 22089.836 / 0.243\n",
      "Cost / err at iteration i=11, j=30: 21472.662 / 0.236\n",
      "Cost / err at iteration i=11, j=40: 22052.043 / 0.242\n",
      "Cost / err at iteration i=11, j=50: 21295.004 / 0.236\n",
      "Cost / err at iteration i=11, j=60: 21697.582 / 0.239\n",
      "Cost / err at iteration i=11, j=70: 21313.510 / 0.237\n",
      "Cost / err at iteration i=11, j=80: 20809.266 / 0.229\n",
      "Cost / err at iteration i=11, j=90: 21182.543 / 0.236\n",
      "Cost / err at iteration i=11, j=100: 21805.895 / 0.244\n",
      "Cost / err at iteration i=11, j=110: 22348.428 / 0.250\n",
      "Cost / err at iteration i=11, j=120: 21633.668 / 0.236\n",
      "Cost / err at iteration i=11, j=130: 21854.406 / 0.245\n",
      "Cost / err at iteration i=11, j=140: 21210.408 / 0.233\n",
      "Cost / err at iteration i=12, j=0: 20530.031 / 0.226\n",
      "Cost / err at iteration i=12, j=10: 22162.391 / 0.246\n",
      "Cost / err at iteration i=12, j=20: 22207.807 / 0.246\n",
      "Cost / err at iteration i=12, j=30: 21082.070 / 0.230\n",
      "Cost / err at iteration i=12, j=40: 21912.420 / 0.243\n",
      "Cost / err at iteration i=12, j=50: 21085.723 / 0.233\n",
      "Cost / err at iteration i=12, j=60: 21303.270 / 0.233\n",
      "Cost / err at iteration i=12, j=70: 21000.865 / 0.232\n",
      "Cost / err at iteration i=12, j=80: 21826.838 / 0.243\n",
      "Cost / err at iteration i=12, j=90: 21847.785 / 0.242\n",
      "Cost / err at iteration i=12, j=100: 22016.543 / 0.243\n",
      "Cost / err at iteration i=12, j=110: 21978.016 / 0.245\n",
      "Cost / err at iteration i=12, j=120: 21017.510 / 0.227\n",
      "Cost / err at iteration i=12, j=130: 21067.438 / 0.229\n",
      "Cost / err at iteration i=12, j=140: 21987.465 / 0.244\n",
      "Cost / err at iteration i=13, j=0: 20462.365 / 0.228\n",
      "Cost / err at iteration i=13, j=10: 22061.348 / 0.243\n",
      "Cost / err at iteration i=13, j=20: 20818.609 / 0.228\n",
      "Cost / err at iteration i=13, j=30: 21284.562 / 0.235\n",
      "Cost / err at iteration i=13, j=40: 21502.426 / 0.235\n",
      "Cost / err at iteration i=13, j=50: 21215.520 / 0.231\n",
      "Cost / err at iteration i=13, j=60: 20740.205 / 0.227\n",
      "Cost / err at iteration i=13, j=70: 20922.047 / 0.233\n",
      "Cost / err at iteration i=13, j=80: 21778.307 / 0.242\n",
      "Cost / err at iteration i=13, j=90: 21595.498 / 0.237\n",
      "Cost / err at iteration i=13, j=100: 21531.236 / 0.235\n",
      "Cost / err at iteration i=13, j=110: 21377.443 / 0.236\n",
      "Cost / err at iteration i=13, j=120: 19929.910 / 0.214\n",
      "Cost / err at iteration i=13, j=130: 20652.816 / 0.227\n",
      "Cost / err at iteration i=13, j=140: 21517.971 / 0.242\n",
      "Cost / err at iteration i=14, j=0: 20405.426 / 0.226\n",
      "Cost / err at iteration i=14, j=10: 21156.545 / 0.232\n",
      "Cost / err at iteration i=14, j=20: 20543.898 / 0.225\n",
      "Cost / err at iteration i=14, j=30: 20410.047 / 0.220\n",
      "Cost / err at iteration i=14, j=40: 20954.750 / 0.228\n",
      "Cost / err at iteration i=14, j=50: 21221.934 / 0.231\n",
      "Cost / err at iteration i=14, j=60: 20223.947 / 0.216\n",
      "Cost / err at iteration i=14, j=70: 20386.824 / 0.220\n",
      "Cost / err at iteration i=14, j=80: 21636.922 / 0.238\n",
      "Cost / err at iteration i=14, j=90: 21993.590 / 0.240\n",
      "Cost / err at iteration i=14, j=100: 22133.891 / 0.243\n",
      "Cost / err at iteration i=14, j=110: 20942.963 / 0.229\n",
      "Cost / err at iteration i=14, j=120: 20791.543 / 0.225\n",
      "Cost / err at iteration i=14, j=130: 20292.439 / 0.222\n",
      "Cost / err at iteration i=14, j=140: 20452.082 / 0.223\n",
      "Cost / err at iteration i=15, j=0: 19996.436 / 0.220\n",
      "Cost / err at iteration i=15, j=10: 20970.350 / 0.230\n",
      "Cost / err at iteration i=15, j=20: 19906.941 / 0.214\n",
      "Cost / err at iteration i=15, j=30: 20900.762 / 0.225\n",
      "Cost / err at iteration i=15, j=40: 20532.492 / 0.220\n",
      "Cost / err at iteration i=15, j=50: 20707.127 / 0.225\n",
      "Cost / err at iteration i=15, j=60: 20518.160 / 0.223\n",
      "Cost / err at iteration i=15, j=70: 20309.520 / 0.221\n",
      "Cost / err at iteration i=15, j=80: 20544.672 / 0.223\n",
      "Cost / err at iteration i=15, j=90: 20830.396 / 0.226\n",
      "Cost / err at iteration i=15, j=100: 20375.691 / 0.220\n",
      "Cost / err at iteration i=15, j=110: 20930.527 / 0.228\n",
      "Cost / err at iteration i=15, j=120: 20946.457 / 0.223\n",
      "Cost / err at iteration i=15, j=130: 20231.578 / 0.220\n",
      "Cost / err at iteration i=15, j=140: 20041.990 / 0.217\n",
      "Cost / err at iteration i=16, j=0: 19546.344 / 0.213\n",
      "Cost / err at iteration i=16, j=10: 20782.734 / 0.229\n",
      "Cost / err at iteration i=16, j=20: 20056.141 / 0.215\n",
      "Cost / err at iteration i=16, j=30: 20356.195 / 0.219\n",
      "Cost / err at iteration i=16, j=40: 19933.479 / 0.212\n",
      "Cost / err at iteration i=16, j=50: 20810.309 / 0.219\n",
      "Cost / err at iteration i=16, j=60: 19767.523 / 0.209\n",
      "Cost / err at iteration i=16, j=70: 20269.744 / 0.222\n",
      "Cost / err at iteration i=16, j=80: 20736.746 / 0.223\n",
      "Cost / err at iteration i=16, j=90: 20888.711 / 0.227\n",
      "Cost / err at iteration i=16, j=100: 20301.289 / 0.218\n",
      "Cost / err at iteration i=16, j=110: 20028.395 / 0.216\n",
      "Cost / err at iteration i=16, j=120: 21216.102 / 0.225\n",
      "Cost / err at iteration i=16, j=130: 20241.746 / 0.217\n",
      "Cost / err at iteration i=16, j=140: 20651.375 / 0.227\n",
      "Cost / err at iteration i=17, j=0: 20259.051 / 0.221\n",
      "Cost / err at iteration i=17, j=10: 20583.629 / 0.228\n",
      "Cost / err at iteration i=17, j=20: 20185.416 / 0.214\n",
      "Cost / err at iteration i=17, j=30: 20306.684 / 0.217\n",
      "Cost / err at iteration i=17, j=40: 20166.156 / 0.214\n",
      "Cost / err at iteration i=17, j=50: 20896.488 / 0.223\n",
      "Cost / err at iteration i=17, j=60: 19744.365 / 0.209\n",
      "Cost / err at iteration i=17, j=70: 20084.051 / 0.218\n",
      "Cost / err at iteration i=17, j=80: 20152.031 / 0.218\n",
      "Cost / err at iteration i=17, j=90: 20072.441 / 0.214\n",
      "Cost / err at iteration i=17, j=100: 20114.928 / 0.214\n",
      "Cost / err at iteration i=17, j=110: 20212.730 / 0.213\n",
      "Cost / err at iteration i=17, j=120: 19971.398 / 0.211\n",
      "Cost / err at iteration i=17, j=130: 20464.945 / 0.219\n",
      "Cost / err at iteration i=17, j=140: 19757.133 / 0.215\n",
      "Cost / err at iteration i=18, j=0: 19157.879 / 0.205\n",
      "Cost / err at iteration i=18, j=10: 20187.189 / 0.217\n",
      "Cost / err at iteration i=18, j=20: 19070.215 / 0.203\n",
      "Cost / err at iteration i=18, j=30: 19841.832 / 0.209\n",
      "Cost / err at iteration i=18, j=40: 19835.684 / 0.212\n",
      "Cost / err at iteration i=18, j=50: 20802.652 / 0.223\n",
      "Cost / err at iteration i=18, j=60: 20903.092 / 0.225\n",
      "Cost / err at iteration i=18, j=70: 19620.932 / 0.210\n",
      "Cost / err at iteration i=18, j=80: 20474.570 / 0.222\n",
      "Cost / err at iteration i=18, j=90: 19755.969 / 0.211\n",
      "Cost / err at iteration i=18, j=100: 19506.117 / 0.207\n",
      "Cost / err at iteration i=18, j=110: 19871.543 / 0.211\n",
      "Cost / err at iteration i=18, j=120: 20083.387 / 0.211\n",
      "Cost / err at iteration i=18, j=130: 20687.516 / 0.222\n",
      "Cost / err at iteration i=18, j=140: 20298.812 / 0.215\n",
      "Cost / err at iteration i=19, j=0: 19585.086 / 0.210\n",
      "Cost / err at iteration i=19, j=10: 20678.906 / 0.226\n",
      "Cost / err at iteration i=19, j=20: 19519.711 / 0.208\n",
      "Cost / err at iteration i=19, j=30: 19776.488 / 0.209\n",
      "Cost / err at iteration i=19, j=40: 20329.949 / 0.215\n",
      "Cost / err at iteration i=19, j=50: 21475.221 / 0.236\n",
      "Cost / err at iteration i=19, j=60: 20592.633 / 0.219\n",
      "Cost / err at iteration i=19, j=70: 20302.281 / 0.221\n",
      "Cost / err at iteration i=19, j=80: 20636.828 / 0.225\n",
      "Cost / err at iteration i=19, j=90: 21001.352 / 0.225\n",
      "Cost / err at iteration i=19, j=100: 20567.033 / 0.220\n",
      "Cost / err at iteration i=19, j=110: 19678.084 / 0.208\n",
      "Cost / err at iteration i=19, j=120: 20013.715 / 0.216\n",
      "Cost / err at iteration i=19, j=130: 20393.094 / 0.219\n",
      "Cost / err at iteration i=19, j=140: 20551.988 / 0.221\n",
      "Elapsed time: 1:11:39.827572\n"
     ]
    }
   ],
   "source": [
    "with tf.Session() as session:\n",
    "    session.run(init)\n",
    "    \n",
    "    for i in range(max_iter):\n",
    "        for j in range(n_batches):\n",
    "            Xbatch = X_train[j*batch_size:(j*batch_size + batch_size),]\n",
    "            Ybatch = Y_train_ind[j*batch_size:(j*batch_size + batch_size),]\n",
    "\n",
    "            session.run(train_op, feed_dict={X: Xbatch, T: Ybatch})\n",
    "            if j % print_period == 0:\n",
    "                test_cost = session.run(cost, feed_dict={X: X_test, T: Y_test_ind})\n",
    "                prediction = session.run(predict_op, feed_dict={X: X_test})\n",
    "                err = error_rate(prediction, Y_test)\n",
    "                print(\"Cost / err at iteration i=%d, j=%d: %.3f / %.3f\" % (i, j, test_cost, err))\n",
    "                LL.append(test_cost)\n",
    "print(\"Elapsed time:\", (datetime.now() - t0))"
   ]
  },
  {
   "cell_type": "markdown",
   "metadata": {},
   "source": [
    "Elapsed time: 1:11:39.827572"
   ]
  },
  {
   "cell_type": "code",
   "execution_count": 64,
   "metadata": {},
   "outputs": [
    {
     "data": {
      "image/png": "[encoded data removed]",
      "text/plain": [
       "<matplotlib.figure.Figure at 0x11b60e9b0>"
      ]
     },
     "metadata": {},
     "output_type": "display_data"
    }
   ],
   "source": [
    "plt.plot(LL)\n",
    "plt.show()"
   ]
  },
  {
   "cell_type": "code",
   "execution_count": null,
   "metadata": {
    "collapsed": true
   },
   "outputs": [],
   "source": []
  }
 ],
 "metadata": {
  "kernelspec": {
   "display_name": "Python 3",
   "language": "python",
   "name": "python3"
  },
  "language_info": {
   "codemirror_mode": {
    "name": "ipython",
    "version": 3
   },
   "file_extension": ".py",
   "mimetype": "text/x-python",
   "name": "python",
   "nbconvert_exporter": "python",
   "pygments_lexer": "ipython3",
   "version": "3.5.4"
  }
 },
 "nbformat": 4,
 "nbformat_minor": 2
}
