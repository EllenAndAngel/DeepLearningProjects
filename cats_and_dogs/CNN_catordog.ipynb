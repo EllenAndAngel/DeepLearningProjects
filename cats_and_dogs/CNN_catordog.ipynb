{
 "cells": [
  {
   "cell_type": "markdown",
   "metadata": {},
   "source": [
    "# How to build a CNN\n",
    "\n",
    "\n",
    "\n",
    "## STEP1 : Convolution\n",
    "\n",
    " -  \n",
    " - \n",
    " \n",
    "## STEP2 : Max Pooling\n",
    "\n",
    " -  \n",
    " - \n",
    " \n",
    "## STEP3 : Flattening\n",
    "\n",
    " -  \n",
    " - \n",
    " \n",
    "## STEP4 : Full Connection\n",
    "\n",
    "- \n",
    "- \n"
   ]
  },
  {
   "cell_type": "code",
   "execution_count": 1,
   "metadata": {
    "collapsed": false
   },
   "outputs": [
    {
     "name": "stderr",
     "output_type": "stream",
     "text": [
      "Using TensorFlow backend.\n"
     ]
    }
   ],
   "source": [
    "# import the keras libraries and packages\n",
    "from keras.models import Sequential \n",
    "from keras.layers import Convolution2D\n",
    "from keras.layers import MaxPooling2D\n",
    "from keras.layers import Flatten\n",
    "from keras.layers import Dense\n",
    "\n",
    "import matplotlib.pyplot as plt\n",
    "%matplotlib inline"
   ]
  },
  {
   "cell_type": "markdown",
   "metadata": {
    "collapsed": true
   },
   "source": [
    "- Sequential : Initiate the NN, two ways: as a sequence of layers or as a graph. CNN is a sequence of layers, so we use Sequential to initialize our NN.\n",
    "- Convolution2D : Images are 2D, videos are 3D with time. Here we deal with images. So it is Convolution2D.\n",
    "- MaxPooling2D \n",
    "- Flatten : convert matric to a large vecter\n",
    "- Dense : Fully connect layer"
   ]
  },
  {
   "cell_type": "code",
   "execution_count": 2,
   "metadata": {
    "collapsed": true
   },
   "outputs": [],
   "source": [
    "# Initialising the CNN\n",
    "model = Sequential()"
   ]
  },
  {
   "cell_type": "code",
   "execution_count": null,
   "metadata": {
    "collapsed": true
   },
   "outputs": [],
   "source": []
  }
 ],
 "metadata": {
  "kernelspec": {
   "display_name": "Python 3",
   "language": "python",
   "name": "python3"
  },
  "language_info": {
   "codemirror_mode": {
    "name": "ipython",
    "version": 3
   },
   "file_extension": ".py",
   "mimetype": "text/x-python",
   "name": "python",
   "nbconvert_exporter": "python",
   "pygments_lexer": "ipython3",
   "version": "3.5.2"
  }
 },
 "nbformat": 4,
 "nbformat_minor": 2
}
